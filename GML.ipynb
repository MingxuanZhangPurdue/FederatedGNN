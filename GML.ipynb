{
 "cells": [
  {
   "cell_type": "code",
   "execution_count": 20,
   "metadata": {},
   "outputs": [],
   "source": [
    "import torch\n",
    "import scipy\n",
    "import copy\n",
    "import scipy.linalg\n",
    "import matplotlib.pyplot as plt\n",
    "import numpy as np\n",
    "import torch.nn as nn\n",
    "import torch.nn.functional as F\n",
    "import torch.optim as optim\n",
    "from torch.utils.data import Dataset\n",
    "\n",
    "from utils import calculate_Atilde, cSBM\n",
    "from GFL import MLP, LR"
   ]
  },
  {
   "cell_type": "code",
   "execution_count": 21,
   "metadata": {},
   "outputs": [],
   "source": [
    "class Device:\n",
    "    \n",
    "    def __init__(self, X, y, device_idx):\n",
    "        \n",
    "        self.idx = device_idx\n",
    "        self.X = X\n",
    "        self.y = y\n",
    "        self.n_k = X.shape[0]\n",
    "        self.data_ids = np.arange(self.n_k)\n",
    "        \n",
    "        \n",
    "    def upload_data(self):\n",
    "        \n",
    "        ids = np.random.choice(self.data_ids, size=self.n_k, replace=False)\n",
    "        \n",
    "        X = self.X[ids,:].view(self.n_k, 1, -1)\n",
    "        \n",
    "        y = self.y[ids].view(self.n_k, 1)\n",
    "        \n",
    "        return X, y\n",
    "    "
   ]
  },
  {
   "cell_type": "code",
   "execution_count": 22,
   "metadata": {},
   "outputs": [],
   "source": [
    "class Central_Machine:\n",
    "    \n",
    "    def __init__(self, device_list, A_tilde):\n",
    "        \n",
    "        self.A_tilde = A_tilde\n",
    "        self.device_list = device_list\n",
    "        self.N = len(device_list)\n",
    "        self.cmodel = None\n",
    "        self.dataset = None\n",
    "        \n",
    "    def init_central_parameters(self, input_dim, hidden_dim, output_dim, nn_type):\n",
    "        \n",
    "        \"\"\"\n",
    "        Initialize the central server parameter dictonary\n",
    "        \"\"\"\n",
    "        \n",
    "        if (nn_type == \"MLP\"):\n",
    "            self.cmodel = MLP(input_dim, hidden_dim, output_dim)\n",
    "            \n",
    "        elif (nn_type == \"LR\"):\n",
    "            self.cmodel = LR(input_dim, output_dim)\n",
    "        \n",
    "            \n",
    "    def collect_data(self):\n",
    "        \n",
    "        Xs = []\n",
    "        \n",
    "        ys = []\n",
    "        \n",
    "        for device in self.device_list:\n",
    "            \n",
    "            X, y = device.upload_data()\n",
    "            \n",
    "            Xs.append(X)\n",
    "            ys.append(y)\n",
    "            \n",
    "            \n",
    "        # Xs; [n_k, N, p]\n",
    "        # ys: [n_k, N] \n",
    "        Xs = torch.cat(Xs, dim=1)\n",
    "        \n",
    "        ys = torch.cat(ys, dim=1)\n",
    "        \n",
    "        self.dataset = torch.utils.data.TensorDataset(Xs, ys)\n",
    "        \n",
    "        return self.dataset"
   ]
  },
  {
   "cell_type": "code",
   "execution_count": 23,
   "metadata": {},
   "outputs": [],
   "source": [
    "def train_GML_cSBM(csbm, A_tilde, num_train, hidden_dim, output_dim=2, n_k=40,\n",
    "               batch_size=20, learning_rate=0.1, opt=\"Adam\", num_epochs=10,\n",
    "               nn_type=\"MLP\"):\n",
    "    \n",
    "    N = A_tilde.shape[0]\n",
    "    \n",
    "    if (num_train > N):\n",
    "        \n",
    "        raise ValueError(\"The number of training nodes is larger than the total number of nodes!\")\n",
    "    \n",
    "    input_dim= csbm.p\n",
    "    \n",
    "    device_list = []\n",
    "    \n",
    "    for i in range(N):\n",
    "        \n",
    "        device_i = Device(X=csbm.Xs[i], y=csbm.ys[i], device_idx=i)\n",
    "        \n",
    "        device_list.append(device_i)\n",
    "    \n",
    "    \n",
    "    cm = Central_Machine(device_list, A_tilde)\n",
    "    \n",
    "    cm.init_central_parameters(input_dim, hidden_dim, output_dim, nn_type)\n",
    "    \n",
    "    if (num_train == N):\n",
    "        \n",
    "        train_indices = np.arange(N)\n",
    "        \n",
    "        test_indices = []\n",
    "        \n",
    "        np.random.shuffle(train_indices)\n",
    "    \n",
    "    else:\n",
    "        \n",
    "        class1_train = np.random.choice(a=csbm.class1_ids, size=int(num_train/2), replace=False)\n",
    "\n",
    "        class2_train = np.random.choice(a=csbm.class2_ids, size=int(num_train/2), replace=False)\n",
    "\n",
    "        train_indices = np.concatenate((class1_train, class2_train), axis=0)\n",
    "\n",
    "        test_indices = list(set(np.arange(N)) - set(train_indices))\n",
    "    \n",
    "    \n",
    "    if (opt == \"Adam\"):\n",
    "        optimizer = optim.Adam(cm.cmodel.parameters())\n",
    "            \n",
    "    else:\n",
    "        optimizer = optim.SGD(cm.cmodel.parameters(), lr=learning_rate)\n",
    "        \n",
    "    train_loss = []\n",
    "    \n",
    "    for ith in range(num_epochs):\n",
    "        \n",
    "        dataloader = torch.utils.data.DataLoader(cm.collect_data(), \n",
    "                                                 batch_size=batch_size, shuffle=True)\n",
    "        for Xs, ys in dataloader:\n",
    "            \n",
    "            optimizer.zero_grad()\n",
    "            \n",
    "            # Hs: [batch_size, N, num_class]\n",
    "            Hs = cm.cmodel(Xs)\n",
    "\n",
    "            # Zs: [batch_size, N, num_class], ys: [m, N]\n",
    "            Zs = torch.matmul(cm.A_tilde, Hs)\n",
    "\n",
    "            # train_Zs: [batch_size, num_train, num_class]\n",
    "            # train_ys: [batch_size, num_train]\n",
    "            train_Zs = Zs[:,train_indices,:]\n",
    "            train_ys = ys[:,train_indices]\n",
    "\n",
    "            num_train = len(train_indices)\n",
    "\n",
    "            average_train_loss = F.cross_entropy(train_Zs.view(batch_size*num_train, -1), train_ys.view(batch_size*num_train),\n",
    "                                         reduction=\"mean\")\n",
    "            \n",
    "            average_train_loss.backward()\n",
    "\n",
    "            optimizer.step()\n",
    "\n",
    "            train_loss.append(average_train_loss.item())\n",
    "\n",
    "            \n",
    "        if (num_epochs <= 100):\n",
    "            if (ith % 10 == 0):\n",
    "                print (\"Epoch:\", ith+1, \"Average train loss:\", average_train_loss.item())\n",
    "                \n",
    "        elif (num_epochs < 5000):\n",
    "            if (ith % 100 == 0):\n",
    "                print (\"Epoch:\", ith+1, \"Average train loss:\", average_train_loss.item())\n",
    "                \n",
    "        else:\n",
    "            if (ith % 1000 == 0):\n",
    "                print (\"Epoch:\", ith+1, \"Average train loss:\", average_train_loss.item())\n",
    "                \n",
    "                \n",
    "                \n",
    "                \n",
    "    return train_loss"
   ]
  },
  {
   "cell_type": "code",
   "execution_count": 31,
   "metadata": {},
   "outputs": [],
   "source": [
    "N = 100\n",
    "p = 10\n",
    "d = 5\n",
    "mu = 1\n",
    "l = 2\n",
    "csbm = cSBM(N, p, d, mu, l)\n",
    "A_tilde = calculate_Atilde(csbm.A, 100, 0.95)\n",
    "csbm.generate_features(40)"
   ]
  },
  {
   "cell_type": "code",
   "execution_count": 38,
   "metadata": {},
   "outputs": [
    {
     "name": "stdout",
     "output_type": "stream",
     "text": [
      "Epoch: 1 Average train loss: 0.6757646799087524\n",
      "Epoch: 1001 Average train loss: 0.40883395075798035\n",
      "Epoch: 2001 Average train loss: 0.34381839632987976\n",
      "Epoch: 3001 Average train loss: 0.328175812959671\n",
      "Epoch: 4001 Average train loss: 0.3293570876121521\n"
     ]
    }
   ],
   "source": [
    "tl = train_GML_cSBM(csbm, A_tilde, num_train=100, hidden_dim=200,\n",
    "               batch_size=10, learning_rate=0.1, opt=\"Adam\", num_epochs=5000,\n",
    "               nn_type=\"LR\", output_dim=2)"
   ]
  },
  {
   "cell_type": "code",
   "execution_count": 40,
   "metadata": {},
   "outputs": [
    {
     "data": {
      "text/plain": [
       "[<matplotlib.lines.Line2D at 0x1afff106940>]"
      ]
     },
     "execution_count": 40,
     "metadata": {},
     "output_type": "execute_result"
    },
    {
     "data": {
      "image/png": "[encoded data removed]",
      "text/plain": [
       "<Figure size 432x288 with 1 Axes>"
      ]
     },
     "metadata": {
      "needs_background": "light"
     },
     "output_type": "display_data"
    }
   ],
   "source": [
    "plt.plot(tl)"
   ]
  },
  {
   "cell_type": "code",
   "execution_count": null,
   "metadata": {},
   "outputs": [],
   "source": []
  }
 ],
 "metadata": {
  "kernelspec": {
   "display_name": "Python 3",
   "language": "python",
   "name": "python3"
  },
  "language_info": {
   "codemirror_mode": {
    "name": "ipython",
    "version": 3
   },
   "file_extension": ".py",
   "mimetype": "text/x-python",
   "name": "python",
   "nbconvert_exporter": "python",
   "pygments_lexer": "ipython3",
   "version": "3.8.5"
  }
 },
 "nbformat": 4,
 "nbformat_minor": 4
}
