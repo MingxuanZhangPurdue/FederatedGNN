{
 "cells": [
  {
   "cell_type": "code",
   "execution_count": 1,
   "metadata": {},
   "outputs": [],
   "source": [
    "import torch\n",
    "import scipy\n",
    "import copy\n",
    "import scipy.linalg\n",
    "import matplotlib.pyplot as plt\n",
    "import numpy as np\n",
    "import torch.nn as nn\n",
    "import torch.nn.functional as F\n",
    "import torch.optim as optim\n",
    "\n",
    "from utils import calculate_Atilde, cSBM\n",
    "from GFL import MLP, LR, Node"
   ]
  },
  {
   "cell_type": "code",
   "execution_count": 26,
   "metadata": {},
   "outputs": [],
   "source": [
    "def create_node_list(csbm, A_tilde, num_train, hidden_dim, output_dim=2, n_k=40, nn_type=\"MLP\"):\n",
    "    \n",
    "    N = A_tilde.shape[0]\n",
    "    \n",
    "    input_dim= csbm.p\n",
    "    \n",
    "    node_list = []\n",
    "    \n",
    "    for i in range(N):\n",
    "        \n",
    "        X = []\n",
    "        \n",
    "        if (nn_type == \"MLP\"):\n",
    "            model_i = MLP(input_dim, hidden_dim, output_dim)\n",
    "            \n",
    "        elif (nn_type == \"LR\"):\n",
    "            model_i = LR(input_dim, output_dim)\n",
    "            \n",
    "        else:\n",
    "            raise ValueError(\"Type of neural network must be either LR or MLP!\")\n",
    "            \n",
    "        \n",
    "        for j in range(n_k):\n",
    "            \n",
    "            x_j = np.sqrt(csbm.mu/N)*csbm.v[i]*csbm.u + np.random.normal(loc=0, scale=1, size=csbm.p)/np.sqrt(csbm.p)\n",
    "            \n",
    "            X.append(x_j)\n",
    "            \n",
    "        X = torch.tensor(np.array(X))\n",
    "        \n",
    "        if csbm.v[i] == -1:\n",
    "            \n",
    "            y = np.zeros(n_k)\n",
    "            \n",
    "        elif csbm.v[i] == 1:\n",
    "            \n",
    "            y = np.ones(n_k)\n",
    "\n",
    "        y = torch.tensor(y).type(torch.LongTensor)\n",
    "        \n",
    "        node_i = Node(local_model=model_i, node_idx=i, X=X, y=y)\n",
    "        \n",
    "        node_list.append(node_i)\n",
    "        \n",
    "    class1_train = np.random.choice(a=csbm.class1_ids, size=int(num_train/2), replace=False)\n",
    "    \n",
    "    class2_train = np.random.choice(a=csbm.class2_ids, size=int(num_train/2), replace=False)\n",
    "    \n",
    "    train_indices = np.concatenate((class1_train, class2_train), axis=0)\n",
    "    \n",
    "    test_indices = list(set(np.arange(N)) - set(train_indices))\n",
    "    \n",
    "    return node_list, train_indices, test_indices"
   ]
  },
  {
   "cell_type": "code",
   "execution_count": 27,
   "metadata": {},
   "outputs": [],
   "source": [
    "N = 100\n",
    "p = 10\n",
    "d = 5\n",
    "mu = 1\n",
    "l = 2\n",
    "csbm = cSBM(N, p, d, mu, l)\n",
    "A_tilde = calculate_Atilde(csbm.A, 100, 0.95)"
   ]
  },
  {
   "cell_type": "code",
   "execution_count": 31,
   "metadata": {},
   "outputs": [],
   "source": [
    "class Central_Machine():\n",
    "    \n",
    "    def __init__(self, node_list, A_tilde):\n",
    "        \n",
    "        \"\"\"\n",
    "        A_tilde: PageRank matrix\n",
    "        node_list: A list contains objects from Node class\n",
    "        \"\"\"\n",
    "        \n",
    "        self.A_tilde = A_tilde\n",
    "        self.node_list = node_list\n",
    "        self.N = len(node_list)\n",
    "        self.cmodel = None\n",
    "        \n",
    "    def init_central_parameters(self, input_dim, hidden_dim, output_dim, nn_type):\n",
    "        \n",
    "        \"\"\"\n",
    "        Initialize the central server parameter dictonary\n",
    "        \"\"\"\n",
    "        \n",
    "        if (nn_type == \"MLP\"):\n",
    "            self.cmodel = MLP(input_dim, hidden_dim, output_dim)\n",
    "            \n",
    "        elif (nn_type == \"LR\"):\n",
    "            self.cmodel = LR(input_dim, output_dim)\n",
    "        \n",
    "            \n",
    "    def collect_data(self, m):\n",
    "        \n",
    "        Xs = []\n",
    "        \n",
    "        ys = []\n",
    "        \n",
    "        for node in self.node_list:\n",
    "            \n",
    "            X, y = node.upload_data(m)\n",
    "            \n",
    "            Xs.append(X)\n",
    "            ys.append(y)\n",
    "            \n",
    "            \n",
    "        # Xs; [m, N, p]\n",
    "        # ys: [m, N] \n",
    "        Xs = torch.cat(Xs, dim=1)\n",
    "        \n",
    "        ys = torch.cat(ys, dim=1)\n",
    "        \n",
    "        return Xs, ys\n",
    "            \n",
    "            \n",
    "        \n",
    "    def train_one_epoch(self, train_indices, batch_size=10):\n",
    "        \n",
    "        # Xs: [batch_size, N, p], ys: [batch_size, N]\n",
    "        Xs, ys = self.collect_data(batch_size)\n",
    "        \n",
    "        # Hs: [batch_size, N, num_class]\n",
    "        Hs = self.cmodel(Xs)\n",
    "        \n",
    "        # Zs: [batch_size, N, num_class], ys: [m, N]\n",
    "        Zs = torch.matmul(self.A_tilde, Hs)\n",
    "        \n",
    "        # train_Zs: [batch_size, num_train, num_class]\n",
    "        # train_ys: [batch_size, num_train]\n",
    "        train_Zs = Zs[:,train_indices,:]\n",
    "        train_ys = ys[:,train_indices]\n",
    "        \n",
    "        num_train = len(train_indices)\n",
    "\n",
    "        train_loss = F.cross_entropy(train_Zs.view(batch_size*num_train, -1), train_ys.view(batch_size*num_train),\n",
    "                                     reduction=\"mean\")\n",
    "        \n",
    "        return train_loss    "
   ]
  },
  {
   "cell_type": "code",
   "execution_count": 41,
   "metadata": {},
   "outputs": [],
   "source": [
    "def train_GML_cSBM(node_list, train_indices, test_indices, A_tilde, input_dim, hidden_dim,\n",
    "               batch_size=20, learning_rate=0.1, opt=\"Adam\", num_epochs=10,\n",
    "               nn_type=\"MLP\", output_dim=2):\n",
    "    \n",
    "    N = A_tilde.shape[0]\n",
    "    \n",
    "    cm = Central_Machine(node_list, A_tilde)\n",
    "    \n",
    "    cm.init_central_parameters(input_dim, hidden_dim, output_dim, nn_type)\n",
    "    \n",
    "    if (opt == \"Adam\"):\n",
    "        optimizer = optim.Adam(cm.cmodel.parameters())\n",
    "            \n",
    "    else:\n",
    "        optimizer = optim.SGD(cm.cmodel.parameters(), lr=learning_rate)\n",
    "    \n",
    "    train_loss = []\n",
    "    \n",
    "    for ith in range(num_epochs):\n",
    "        \n",
    "        optimizer.zero_grad()\n",
    "        \n",
    "        average_train_loss = cm.train_one_epoch(train_indices, batch_size)\n",
    "        \n",
    "        average_train_loss.backward()\n",
    "        \n",
    "        optimizer.step()\n",
    "        \n",
    "        train_loss.append(average_train_loss.item())\n",
    "        \n",
    "            \n",
    "        if (num_epochs <= 100):\n",
    "            if (ith % 5 == 0):\n",
    "                print (\"Communication:\", ith+1, \"Average train loss:\", average_train_loss.item())\n",
    "                \n",
    "        else:\n",
    "            if (ith % 100 == 0):\n",
    "                print (\"Communication:\", ith+1, \"Average train loss:\", average_train_loss.item())\n",
    "                \n",
    "                \n",
    "                \n",
    "    return train_loss"
   ]
  },
  {
   "cell_type": "code",
   "execution_count": 42,
   "metadata": {},
   "outputs": [
    {
     "name": "stdout",
     "output_type": "stream",
     "text": [
      "Communication: 1 Average train loss: 0.7003893852233887\n",
      "Communication: 101 Average train loss: 0.6915803551673889\n",
      "Communication: 201 Average train loss: 0.6824090480804443\n",
      "Communication: 301 Average train loss: 0.6755984425544739\n",
      "Communication: 401 Average train loss: 0.6675140261650085\n",
      "Communication: 501 Average train loss: 0.6602285504341125\n",
      "Communication: 601 Average train loss: 0.6594264507293701\n",
      "Communication: 701 Average train loss: 0.6448641419410706\n",
      "Communication: 801 Average train loss: 0.647621214389801\n",
      "Communication: 901 Average train loss: 0.6307656764984131\n"
     ]
    }
   ],
   "source": [
    "nl, t1, t2 = create_node_list(csbm, A_tilde, num_train=10, hidden_dim=100, output_dim=2, n_k=40, nn_type=\"MLP\")\n",
    "tl = train_GML_cSBM(nl, t1, t2, A_tilde, input_dim=csbm.p, hidden_dim=200,\n",
    "               batch_size=20, learning_rate=0.1, opt=\"Adam\", num_epochs=1000,\n",
    "               nn_type=\"LR\", output_dim=2)"
   ]
  },
  {
   "cell_type": "code",
   "execution_count": 43,
   "metadata": {},
   "outputs": [
    {
     "data": {
      "text/plain": [
       "[<matplotlib.lines.Line2D at 0x293cf8a2e88>]"
      ]
     },
     "execution_count": 43,
     "metadata": {},
     "output_type": "execute_result"
    },
    {
     "data": {
      "image/png": "[encoded data removed]",
      "text/plain": [
       "<Figure size 432x288 with 1 Axes>"
      ]
     },
     "metadata": {
      "needs_background": "light"
     },
     "output_type": "display_data"
    }
   ],
   "source": [
    "plt.plot(tl)"
   ]
  },
  {
   "cell_type": "code",
   "execution_count": null,
   "metadata": {},
   "outputs": [],
   "source": []
  }
 ],
 "metadata": {
  "kernelspec": {
   "display_name": "Python 3",
   "language": "python",
   "name": "python3"
  },
  "language_info": {
   "codemirror_mode": {
    "name": "ipython",
    "version": 3
   },
   "file_extension": ".py",
   "mimetype": "text/x-python",
   "name": "python",
   "nbconvert_exporter": "python",
   "pygments_lexer": "ipython3",
   "version": "3.7.9"
  }
 },
 "nbformat": 4,
 "nbformat_minor": 4
}
